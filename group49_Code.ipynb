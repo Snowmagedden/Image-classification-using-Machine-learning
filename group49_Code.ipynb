{
 "cells": [
  {
   "cell_type": "code",
   "execution_count": 1,
   "metadata": {},
   "outputs": [
    {
     "name": "stderr",
     "output_type": "stream",
     "text": [
      "Using TensorFlow backend.\n"
     ]
    }
   ],
   "source": [
    "import numpy as np\n",
    "from keras.utils import to_categorical\n",
    "import pandas as pd\n",
    "import matplotlib.pyplot as plt\n",
    "from PIL import Image\n",
    "from sklearn.model_selection import train_test_split\n",
    "from keras.models import Sequential\n",
    "from keras.layers import Dense, Dropout, Flatten, Conv2D, MaxPool2D, BatchNormalization, Activation, MaxPooling2D, Reshape\n",
    "from keras.preprocessing.image import ImageDataGenerator\n",
    "from keras.callbacks import LearningRateScheduler\n",
    "import random\n",
    "import cv2\n",
    "from keras.utils import plot_model \n",
    "from skimage.util import random_noise"
   ]
  },
  {
   "cell_type": "code",
   "execution_count": 3,
   "metadata": {},
   "outputs": [],
   "source": [
    "with np.load('data/training-dataset.npz') as data:\n",
    "    img = data['x']\n",
    "    lbl = data['y']"
   ]
  },
  {
   "cell_type": "code",
   "execution_count": 1146,
   "metadata": {},
   "outputs": [
    {
     "name": "stdout",
     "output_type": "stream",
     "text": [
      "(124800,)\n"
     ]
    },
    {
     "data": {
      "text/plain": [
       "array([ 1,  2,  3,  4,  5,  6,  7,  8,  9, 10, 11, 12, 13, 14, 15, 16, 17,\n",
       "       18, 19, 20, 21, 22, 23, 24, 25, 26], dtype=uint8)"
      ]
     },
     "execution_count": 1146,
     "metadata": {},
     "output_type": "execute_result"
    }
   ],
   "source": [
    "np.unique(lbl)"
   ]
  },
  {
   "cell_type": "markdown",
   "metadata": {},
   "source": [
    "### Reshaping image to 30x28 for easier use in task 2"
   ]
  },
  {
   "cell_type": "code",
   "execution_count": null,
   "metadata": {},
   "outputs": [],
   "source": [
    "img = img.reshape(-1,28,28)\n",
    "img_noise = []\n",
    "for i in img:\n",
    "    noise = np.zeros((30,28))\n",
    "    noise[:i.shape[0],:i.shape[1]] = i\n",
    "    img_noise.append(noise)"
   ]
  },
  {
   "cell_type": "code",
   "execution_count": null,
   "metadata": {},
   "outputs": [],
   "source": [
    "img_noise = np.array(img_noise)"
   ]
  },
  {
   "cell_type": "code",
   "execution_count": null,
   "metadata": {},
   "outputs": [],
   "source": [
    "img_noise = img_noise.reshape(-1,30,28,1)\n",
    "img_noise.shape"
   ]
  },
  {
   "cell_type": "markdown",
   "metadata": {},
   "source": [
    "### Adding noise "
   ]
  },
  {
   "cell_type": "code",
   "execution_count": null,
   "metadata": {},
   "outputs": [],
   "source": [
    "img_noise = random_noise(img_noise, mode='s&p', amount=0.1)"
   ]
  },
  {
   "cell_type": "markdown",
   "metadata": {},
   "source": [
    "### splitting the data"
   ]
  },
  {
   "cell_type": "code",
   "execution_count": null,
   "metadata": {},
   "outputs": [],
   "source": [
    "y = to_categorical(lbl)\n",
    "X_train, X_test, y_train, y_test = train_test_split(img_noise, y, test_size=0.2, random_state=42)\n",
    "print(X_train.shape)\n",
    "print(X_test.shape)\n",
    "print(y_train.shape)\n",
    "print(y_test.shape)"
   ]
  },
  {
   "cell_type": "code",
   "execution_count": null,
   "metadata": {},
   "outputs": [],
   "source": [
    "X_train, X_val, y_train, y_val = train_test_split(X_train, y_train, test_size=0.2, random_state=42)\n",
    "print(X_train.shape)\n",
    "print(X_val.shape)\n",
    "print(y_train.shape)\n",
    "print(y_val.shape)"
   ]
  },
  {
   "cell_type": "markdown",
   "metadata": {},
   "source": [
    "### Creating the model and running the model"
   ]
  },
  {
   "cell_type": "code",
   "execution_count": null,
   "metadata": {},
   "outputs": [],
   "source": [
    "model = Sequential()\n",
    "model.add(Conv2D(32, kernel_size = 3, activation='relu', input_shape = (30,28,1)))\n",
    "model.add(BatchNormalization())\n",
    "model.add(Conv2D(32, kernel_size = 3, activation='relu'))\n",
    "model.add(BatchNormalization())\n",
    "model.add(Conv2D(32, kernel_size = 5, strides=2, padding='same', activation='relu'))\n",
    "model.add(BatchNormalization())\n",
    "model.add(Dropout(0.4))\n",
    "\n",
    "model.add(Conv2D(64, kernel_size = 3, activation='relu'))\n",
    "model.add(BatchNormalization())\n",
    "model.add(Conv2D(64, kernel_size = 3, activation='relu'))\n",
    "model.add(BatchNormalization())\n",
    "model.add(Conv2D(64, kernel_size = 5, strides=2, padding='same', activation='relu'))\n",
    "model.add(BatchNormalization())\n",
    "model.add(Dropout(0.4))\n",
    "\n",
    "model.add(Conv2D(128, kernel_size = 4, activation='relu'))\n",
    "model.add(BatchNormalization())\n",
    "model.add(Flatten())\n",
    "model.add(Dropout(0.4))\n",
    "model.add(Dense(27, activation='softmax'))\n",
    "\n",
    "model.compile(optimizer=\"adam\", loss=\"categorical_crossentropy\", metrics=[\"accuracy\"])\n",
    "plot_model(model, to_file='model.png',rankdir='LR')"
   ]
  },
  {
   "cell_type": "code",
   "execution_count": null,
   "metadata": {},
   "outputs": [],
   "source": [
    "history = model.fit(X_train, y_train, validation_data=(X_val, y_val), epochs=5, batch_size=64)"
   ]
  },
  {
   "cell_type": "code",
   "execution_count": null,
   "metadata": {},
   "outputs": [],
   "source": [
    "def plot_history(history):# Plot the loss and accuracy\n",
    "    # Format the train history\n",
    "    history_df = pd.DataFrame(history.history, columns=history.history.keys())\n",
    "    display(history_df)\n",
    "    \n",
    "    fig = plt.figure()\n",
    "    ax = plt.subplot(111)\n",
    "    for i in range(history_df.shape[1]):\n",
    "        ax.plot(history_df.iloc[:,i], label=history_df.columns[i])\n",
    "    ax.legend()\n",
    "    plt.title('Score() and loss during training.')\n",
    "    plt.xlabel('Training step')\n",
    "    plt.ylabel('Accuracy and Loss')\n",
    "    plt.grid(b=True, which='major', axis='both')\n",
    "    plt.show()\n",
    "\n",
    "plot_history(history)"
   ]
  },
  {
   "cell_type": "code",
   "execution_count": null,
   "metadata": {},
   "outputs": [],
   "source": [
    "model.save(\"noise_30x28_model.h5\")"
   ]
  },
  {
   "cell_type": "markdown",
   "metadata": {},
   "source": [
    "### Classification report "
   ]
  },
  {
   "cell_type": "code",
   "execution_count": null,
   "metadata": {},
   "outputs": [],
   "source": [
    "from sklearn.metrics import accuracy_score, classification_report\n",
    "y_pred = model.predict(X_test)\n",
    "y_pred = np.argmax(y_pred, axis=1)\n",
    "y_test = np.argmax(y_test, axis=1)\n",
    "print(accuracy_score(y_test, y_pred))\n",
    "print(classification_report(y_test, y_pred))"
   ]
  },
  {
   "cell_type": "code",
   "execution_count": null,
   "metadata": {},
   "outputs": [],
   "source": [
    "plt.figure(figsize=(20,20))\n",
    "j=0\n",
    "for i in range(0,100):\n",
    "    plt.subplot(10,10,j+1),plt.imshow(X_test[j].reshape(30,28)), plt.axis('off')\n",
    "    plt.title('{} / {}'.format(y_test[j], y_pred[j]))\n",
    "    j+=1\n",
    "plt.suptitle('Actual vs. Predicted Labels', size=20)\n",
    "plt.show()"
   ]
  },
  {
   "cell_type": "markdown",
   "metadata": {},
   "source": [
    "### There is a wrong Label in the code?\n",
    "model gets it right but the i is wrongly labeled"
   ]
  },
  {
   "cell_type": "code",
   "execution_count": null,
   "metadata": {},
   "outputs": [],
   "source": [
    "plt.imshow(X_test[1].reshape(30,28))\n",
    "y_pred[1]"
   ]
  },
  {
   "cell_type": "code",
   "execution_count": null,
   "metadata": {},
   "outputs": [],
   "source": [
    "actual = y_test[1]\n",
    "np.argmax(actual,axis=0)"
   ]
  },
  {
   "cell_type": "markdown",
   "metadata": {},
   "source": [
    "# task 2"
   ]
  },
  {
   "cell_type": "code",
   "execution_count": 5,
   "metadata": {},
   "outputs": [],
   "source": [
    "test = np.load('data/test-dataset.npy')"
   ]
  },
  {
   "cell_type": "code",
   "execution_count": 6,
   "metadata": {},
   "outputs": [
    {
     "name": "stdout",
     "output_type": "stream",
     "text": [
      "(10000, 30, 168)\n"
     ]
    },
    {
     "data": {
      "text/plain": [
       "<matplotlib.image.AxesImage at 0x2b6561a35c8>"
      ]
     },
     "execution_count": 6,
     "metadata": {},
     "output_type": "execute_result"
    },
    {
     "data": {
      "image/png": "[encoded data removed]",
      "text/plain": [
       "<Figure size 432x288 with 1 Axes>"
      ]
     },
     "metadata": {
      "needs_background": "light"
     },
     "output_type": "display_data"
    }
   ],
   "source": [
    "print(test.shape)\n",
    "plt.imshow(test[-1])"
   ]
  },
  {
   "cell_type": "code",
   "execution_count": 56,
   "metadata": {},
   "outputs": [
    {
     "data": {
      "text/plain": [
       "<matplotlib.image.AxesImage at 0x2b624d80148>"
      ]
     },
     "execution_count": 56,
     "metadata": {},
     "output_type": "execute_result"
    },
    {
     "data": {
      "image/png": "[encoded data removed]",
      "text/plain": [
       "<Figure size 432x288 with 1 Axes>"
      ]
     },
     "metadata": {
      "needs_background": "light"
     },
     "output_type": "display_data"
    }
   ],
   "source": [
    "# Noise is of type 'Salt and Pepper' -> Best denoising method is median filter\n",
    "# Denoise all images in the test set\n",
    "from scipy import ndimage\n",
    "test_denoised = []\n",
    "for i in range(len(test)):\n",
    "    new = ndimage.median_filter(test[i], 2)\n",
    "    test_denoised.append(ndimage.median_filter(new, 2))\n",
    "plt.imshow(test_denoised[-1])"
   ]
  },
  {
   "cell_type": "code",
   "execution_count": null,
   "metadata": {},
   "outputs": [],
   "source": [
    "# find contours for the letters within the image\n",
    "test_separated = []\n",
    "deleted_array_count = 0\n",
    "for k in range(len(test_denoised)):\n",
    "    current_image = test_denoised[k].copy()\n",
    "    im=current_image.astype('uint8')\n",
    "    ret, thresh = cv2.threshold(im.copy(), 50, 255, 0)\n",
    "    contours, hierarchy = cv2.findContours(thresh, cv2.RETR_TREE, cv2.CHAIN_APPROX_SIMPLE)[-2:]\n",
    "    \n",
    "    # x,y,w,h = cv2.boundingRect(contours[i]) \n",
    "    # get x, y, width, height to form the bounding box of each letter\n",
    "    bb=[]\n",
    "    deleted=[]\n",
    "    separated = []\n",
    "    separated_max = []\n",
    "    bb = [cv2.boundingRect(contours[i]) for i in range(len(contours))]\n",
    "    for i in range(len(bb)):\n",
    "        if np.max(current_image[bb[i][1]:bb[i][1]+bb[i][3], bb[i][0]:bb[i][0]+bb[i][2]])>255:\n",
    "            separated_max.append((i,np.where(current_image[bb[i][1]:bb[i][1]+bb[i][3], bb[i][0]:bb[i][0]+bb[i][2]]==np.max(current_image[bb[i][1]:bb[i][1]+bb[i][3], bb[i][0]:bb[i][0]+bb[i][2]]))[0][0]))\n",
    "            #print('done')\n",
    "        if (bb[i][2] < 20) & (bb[i][3] < 17): # if too small to be a letter\n",
    "            deleted.append(bb[i])\n",
    "            #print('deleted')\n",
    "        if bb[i][2] >= 30:  # if bounding box too large and contains two letters\n",
    "            if i not in separated_max:\n",
    "                separated.append(i)\n",
    "                #print('separated')\n",
    "                      \n",
    "    for i,m in separated_max:\n",
    "        if bb[i] not in deleted:\n",
    "                new = bb[i] # create new bounding box with half width\n",
    "                bb[i] = (int(bb[i][0]),int(bb[i][1]),m,int(bb[i][3])) # halve the width\n",
    "                new = (int(bb[i][0])+m, int(bb[i][1]), int(new[0])+int(new[2])-m, int(bb[i][3])) # # create new bounding box with half width and move its x to x + width/2\n",
    "                bb.append(new)\n",
    "                \n",
    "    for i in separated:\n",
    "        if (((len(separated_max)>0) and (i not in np.array(separated_max)[:,0])) or (len(separated_max)==0)):\n",
    "            bb[i] = (bb[i][0],bb[i][1],int(bb[i][2]/2),bb[i][3]) # halve the width\n",
    "            new = bb[i] # create new bounding box with half width\n",
    "            new = (int(bb[i][0]) + int(bb[i][2]), int(bb[i][1]), int(bb[i][2]), int(bb[i][3])) # # create new bounding box with half width and move its x to x + width/2\n",
    "            bb.append(new)\n",
    "    \n",
    "    for element in sorted(deleted, reverse=True): # remove bounding boxes that don't surround a letter\n",
    "        bb.remove(element)\n",
    "                          \n",
    "    widths=[]\n",
    "    heights=[]  \n",
    "    bb = sorted(np.array(bb), key=lambda x: x[0]) # ascending sort by x, i.e. letters from left to right\n",
    "    temp = []\n",
    "    temporary = []\n",
    "    for i in range(len(bb)):\n",
    "        temp = current_image[bb[i][1]:bb[i][1]+bb[i][3], bb[i][0]:bb[i][0]+bb[i][2]]\n",
    "        if temp[0].shape > np.max(3):\n",
    "            temporary.append(temp)    \n",
    "        else:\n",
    "            print('deleted array of size 0')\n",
    "            deleted_array_count +=1\n",
    "    test_separated.append(temporary)\n",
    "test_separated = np.array(test_separated)"
   ]
  },
  {
   "cell_type": "code",
   "execution_count": 58,
   "metadata": {},
   "outputs": [
    {
     "data": {
      "text/plain": [
       "10000"
      ]
     },
     "execution_count": 58,
     "metadata": {},
     "output_type": "execute_result"
    }
   ],
   "source": [
    "len(test_separated)"
   ]
  },
  {
   "cell_type": "code",
   "execution_count": 124,
   "metadata": {},
   "outputs": [
    {
     "data": {
      "text/plain": [
       "(array([2.400e+01, 0.000e+00, 8.620e+02, 0.000e+00, 8.578e+03, 0.000e+00,\n",
       "        4.280e+02, 0.000e+00, 1.050e+02, 3.000e+00]),\n",
       " array([3. , 3.5, 4. , 4.5, 5. , 5.5, 6. , 6.5, 7. , 7.5, 8. ]),\n",
       " <a list of 10 Patch objects>)"
      ]
     },
     "execution_count": 124,
     "metadata": {},
     "output_type": "execute_result"
    },
    {
     "data": {
      "image/png": "[encoded data removed]",
      "text/plain": [
       "<Figure size 432x288 with 1 Axes>"
      ]
     },
     "metadata": {
      "needs_background": "light"
     },
     "output_type": "display_data"
    }
   ],
   "source": [
    "# over 90% of images were separated into 5 letters, but still many into !=5 letters\n",
    "l=[]\n",
    "for i in range(len(test_separated)):\n",
    "    l.append(len(test_separated[i]))\n",
    "plt.hist(l)"
   ]
  },
  {
   "cell_type": "code",
   "execution_count": 125,
   "metadata": {},
   "outputs": [
    {
     "data": {
      "text/plain": [
       "(array([4588.,  130.,  138.,  137.,  174.,  132.,  202.,  270.,  604.,\n",
       "        3625.]),\n",
       " array([255. , 280.5, 306. , 331.5, 357. , 382.5, 408. , 433.5, 459. ,\n",
       "        484.5, 510. ]),\n",
       " <a list of 10 Patch objects>)"
      ]
     },
     "execution_count": 125,
     "metadata": {},
     "output_type": "execute_result"
    },
    {
     "data": {
      "image/png": "[encoded data removed]",
      "text/plain": [
       "<Figure size 432x288 with 1 Axes>"
      ]
     },
     "metadata": {
      "needs_background": "light"
     },
     "output_type": "display_data"
    }
   ],
   "source": [
    "# almost half of images have pixel max 255, but many have it >255, suggesting an overlap of letters\n",
    "# hint: where max>255, two letters overlap, so better to set the pixel location as separation point (done above)\n",
    "a=[]\n",
    "for i in range(10000):\n",
    "    a.append(np.max(test[i]))\n",
    "plt.hist(a)"
   ]
  },
  {
   "cell_type": "code",
   "execution_count": 113,
   "metadata": {},
   "outputs": [
    {
     "data": {
      "image/png": "[encoded data removed]",
      "text/plain": [
       "<Figure size 432x288 with 1 Axes>"
      ]
     },
     "metadata": {
      "needs_background": "light"
     },
     "output_type": "display_data"
    },
    {
     "data": {
      "image/png": "[encoded data removed]",
      "text/plain": [
       "<Figure size 576x576 with 5 Axes>"
      ]
     },
     "metadata": {
      "needs_background": "light"
     },
     "output_type": "display_data"
    }
   ],
   "source": [
    "plt.imshow(test_denoised[1])\n",
    "plt.show()\n",
    "\n",
    "fig=plt.figure(figsize=(8, 8))\n",
    "for i in range(len(test_separated[1])):\n",
    "    fig.add_subplot(1,len(test_separated[1]),i+1)\n",
    "    plt.imshow(test_separated[1][i])"
   ]
  },
  {
   "cell_type": "code",
   "execution_count": 117,
   "metadata": {},
   "outputs": [],
   "source": [
    "use_samples = test_separated[180]\n",
    "block_size = 55\n",
    "noise_removed = []\n",
    "predictions = []\n",
    "for sample in use_samples:\n",
    "    imbw = sample > filters.threshold_local(sample, block_size, method = 'mean')\n",
    "    imbw1 = remove_small_objects(imbw, 10, connectivity=1)\n",
    "    roi = imbw1\n",
    "    roi = roi.reshape((roi.shape[0],roi.shape[1],1))\n",
    "    roi = tf.image.resize_with_crop_or_pad(roi, 30, 28).numpy()\n",
    "    image = roi.reshape(30,28)\n",
    "    prediction1 = model.predict_classes(image.reshape(-1,30,28,1))\n",
    "    predictions.append(prediction1)"
   ]
  },
  {
   "cell_type": "code",
   "execution_count": 118,
   "metadata": {},
   "outputs": [
    {
     "data": {
      "text/plain": [
       "<matplotlib.image.AxesImage at 0x2b686020b48>"
      ]
     },
     "execution_count": 118,
     "metadata": {},
     "output_type": "execute_result"
    },
    {
     "data": {
      "image/png": "[encoded data removed]",
      "text/plain": [
       "<Figure size 432x288 with 1 Axes>"
      ]
     },
     "metadata": {
      "needs_background": "light"
     },
     "output_type": "display_data"
    }
   ],
   "source": [
    "plt.imshow(test_denoised[180])"
   ]
  },
  {
   "cell_type": "code",
   "execution_count": 119,
   "metadata": {},
   "outputs": [
    {
     "data": {
      "text/plain": [
       "[array([20], dtype=int64),\n",
       " array([8], dtype=int64),\n",
       " array([10], dtype=int64),\n",
       " array([4], dtype=int64)]"
      ]
     },
     "execution_count": 119,
     "metadata": {},
     "output_type": "execute_result"
    }
   ],
   "source": [
    "predictions"
   ]
  },
  {
   "cell_type": "markdown",
   "metadata": {},
   "source": [
    "# Generating Predictions of the images"
   ]
  },
  {
   "cell_type": "code",
   "execution_count": 120,
   "metadata": {},
   "outputs": [],
   "source": [
    "from skimage.measure import label, regionprops\n",
    "from skimage.morphology import remove_small_objects\n",
    "from skimage.color import label2rgb\n",
    "from skimage import filters\n",
    "import tensorflow as tf\n",
    "from keras.models import load_model\n",
    "\n",
    "model = load_model('noise_30x28_model.h5')\n",
    "\n",
    "predictions1 = []\n",
    "predictions2 = []\n",
    "predictions3 = []\n",
    "predictions4 = []\n",
    "predictions5 = []\n",
    "images = []\n",
    "connected_c = []\n",
    "final = []\n",
    "for i in test_separated:\n",
    "    for j in i:\n",
    "        imbw = j > filters.threshold_local(j, block_size, method = 'mean')\n",
    "        imbw1 = remove_small_objects(imbw, 10, connectivity=1)\n",
    "        roi = imbw1\n",
    "        roi = roi.reshape((roi.shape[0],roi.shape[1],1))\n",
    "        roi = tf.image.resize_with_crop_or_pad(roi, 30, 28).numpy()\n",
    "        image = roi.reshape(30,28)\n",
    "        prediction1 = model.predict_classes(image.reshape(-1,30,28,1))\n",
    "        prediction2 = model.predict_classes(image.reshape(-1,30,28,1))\n",
    "        prediction3 = model.predict_classes(image.reshape(-1,30,28,1))\n",
    "        prediction4 = model.predict_classes(image.reshape(-1,30,28,1))\n",
    "        prediction5 = model.predict_classes(image.reshape(-1,30,28,1))\n",
    "        images.append(image)\n",
    "        predictions1.append(prediction1)\n",
    "        predictions2.append(prediction2)\n",
    "        predictions3.append(prediction3)\n",
    "        predictions4.append(prediction4)\n",
    "        predictions5.append(prediction5)    \n",
    "    connected = np.concatenate(images, axis=1)\n",
    "    pred_connect1 = np.concatenate(predictions1)\n",
    "    pred_connect2 = np.concatenate(predictions2)\n",
    "    pred_connect3 = np.concatenate(predictions3)\n",
    "    pred_connect4 = np.concatenate(predictions4)\n",
    "    pred_connect5 = np.concatenate(predictions5)\n",
    "    \n",
    "    a_str1 = pred_connect1.astype(str)\n",
    "    a_str2 = pred_connect2.astype(str)\n",
    "    a_str3 = pred_connect3.astype(str)\n",
    "    a_str4 = pred_connect4.astype(str)\n",
    "    a_str5 = pred_connect5.astype(str)\n",
    "    \n",
    "    a_str1_1= np.char.zfill(a_str1, 2)\n",
    "    a_str1_2= np.char.zfill(a_str2, 2)\n",
    "    a_str1_3= np.char.zfill(a_str3, 2)\n",
    "    a_str1_4= np.char.zfill(a_str4, 2)\n",
    "    a_str1_5= np.char.zfill(a_str5, 2)\n",
    "    \n",
    "    a_str2_1 = ''.join(a_str1_1)\n",
    "    a_str2_2 = ''.join(a_str1_2)\n",
    "    a_str2_3 = ''.join(a_str1_3)\n",
    "    a_str2_4 = ''.join(a_str1_4)\n",
    "    a_str2_5 = ''.join(a_str1_5)\n",
    "    \n",
    "    predictions_c = []\n",
    "    connected_c.append(connected) \n",
    "    predictions_c.append(a_str2_1)\n",
    "    predictions_c.append(a_str2_2)\n",
    "    predictions_c.append(a_str2_3)\n",
    "    predictions_c.append(a_str2_4)\n",
    "    predictions_c.append(a_str2_5)\n",
    "    final1 = predictions_c.copy()\n",
    "    final.append(final1)\n",
    "    predictions1.clear()\n",
    "    predictions2.clear()\n",
    "    predictions3.clear()\n",
    "    predictions4.clear()\n",
    "    predictions5.clear()\n",
    "    \n",
    "    predictions_c.clear()\n",
    "    images.clear()  "
   ]
  },
  {
   "cell_type": "code",
   "execution_count": 121,
   "metadata": {},
   "outputs": [],
   "source": [
    "import csv\n",
    "with open('Predictions.csv', 'w', newline='') as myfile:\n",
    "    wr = csv.writer(myfile, quoting=csv.QUOTE_ALL)\n",
    "    wr.writerows(final)"
   ]
  }
 ],
 "metadata": {
  "kernelspec": {
   "display_name": "Python 3",
   "language": "python",
   "name": "python3"
  },
  "language_info": {
   "codemirror_mode": {
    "name": "ipython",
    "version": 3
   },
   "file_extension": ".py",
   "mimetype": "text/x-python",
   "name": "python",
   "nbconvert_exporter": "python",
   "pygments_lexer": "ipython3",
   "version": "3.7.9"
  }
 },
 "nbformat": 4,
 "nbformat_minor": 4
}
